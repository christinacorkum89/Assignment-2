{
 "cells": [
  {
   "cell_type": "markdown",
   "metadata": {
    "colab_type": "text",
    "id": "-ycSUdCI6y9U"
   },
   "source": [
    "# Assignment 2\n",
    "\n",
    "### Total : 26pts"
   ]
  },
  {
   "cell_type": "code",
   "execution_count": 27,
   "metadata": {
    "dotnet_interactive": {
     "language": "pwsh"
    }
   },
   "outputs": [
    {
     "name": "stdout",
     "output_type": "stream",
     "text": [
      "Name: Christina Corkum\n",
      "Student #: W0524094\n"
     ]
    }
   ],
   "source": [
    "# write a program to print your name and student number \n",
    "# using variables and variable substitution\n",
    "# 1 pt\n",
    "\n",
    "name = \"Christina Corkum\"\n",
    "student_number = \"W0524094\"\n",
    "print(f\"Name: Christina Corkum\")\n",
    "print(f\"Student #: W0524094\")"
   ]
  },
  {
   "cell_type": "markdown",
   "metadata": {},
   "source": [
    "**Sample Output**  \n",
    "Name: John Doe  \n",
    "Student #: W0123456"
   ]
  },
  {
   "cell_type": "markdown",
   "metadata": {
    "colab_type": "text",
    "id": "Wu4GRcHW6y9Z"
   },
   "source": [
    "### Part A - Practice (16pts)\n",
    "\n",
    "For each item below, determine the appropriate Python code to generate the desired output.\n",
    "\n",
    "__Note__: Ensure you read each direction carefully! You will lose points for not producing the correct output.\n",
    "\n",
    "---"
   ]
  },
  {
   "cell_type": "markdown",
   "metadata": {},
   "source": [
    "1. Write a small program that takes a numeric variable as input.  \n",
    "Print out \"EVEN\" if the value is a even number and do nothing if it is odd.<br>  \n",
    "__1 pt__"
   ]
  },
  {
   "cell_type": "code",
   "execution_count": 1,
   "metadata": {
    "dotnet_interactive": {
     "language": "pwsh"
    }
   },
   "outputs": [
    {
     "name": "stdout",
     "output_type": "stream",
     "text": [
      "EVEN\n"
     ]
    }
   ],
   "source": [
    "# this number could be any value\n",
    "# feel free to change it to test your code\n",
    "number = 10 # could be 1, 5, 8, etc...\n",
    "\n",
    "# add your code here\n",
    "# check if the number is even\n",
    "if number % 2 == 0:\n",
    "    print(\"EVEN\")\n"
   ]
  },
  {
   "cell_type": "markdown",
   "metadata": {},
   "source": [
    "2. Write a small program that will look at a single character and print out \"__letter__\", if it is between the letters '__a__' and '__z__' (inclusive).<br>  \n",
    "__2 pts__"
   ]
  },
  {
   "cell_type": "code",
   "execution_count": 5,
   "metadata": {
    "dotnet_interactive": {
     "language": "pwsh"
    }
   },
   "outputs": [
    {
     "name": "stdin",
     "output_type": "stream",
     "text": [
      "Enter a character:  x\n"
     ]
    },
    {
     "name": "stdout",
     "output_type": "stream",
     "text": [
      "letter\n"
     ]
    }
   ],
   "source": [
    "# this character could be any viewable character\n",
    "# feel free to change it to test your code\n",
    "character = 'x' # could be '$', 'p', '*', 'w', etc...\n",
    "\n",
    "# add your code here\n",
    "char = input(\"Enter a character: \")\n",
    "if 'a' <= char <= 'z':\n",
    "    print(\"letter\")"
   ]
  },
  {
   "cell_type": "markdown",
   "metadata": {},
   "source": [
    "3. Compare a given number and if the number is '12345' (secret code),<br>print \"UNLOCKED!\" otherwise have it print \"ALARM!\"<br>  \n",
    "__2 pts__"
   ]
  },
  {
   "cell_type": "code",
   "execution_count": 9,
   "metadata": {
    "dotnet_interactive": {
     "language": "pwsh"
    }
   },
   "outputs": [
    {
     "name": "stdin",
     "output_type": "stream",
     "text": [
      "Enter a number:  12345\n"
     ]
    },
    {
     "name": "stdout",
     "output_type": "stream",
     "text": [
      "UNLOCKED!\n"
     ]
    }
   ],
   "source": [
    "# assume this is the number that was entered by the user\n",
    "# it could be anything, including the correct combination\n",
    "code = \"12346\" # try different values here\n",
    "\n",
    "# add your code here\n",
    "num = input(\"Enter a number: \")\n",
    "if num == \"12345\":\n",
    "    print(\"UNLOCKED!\")\n",
    "else:\n",
    "    print(\"ALARM!\")"
   ]
  },
  {
   "cell_type": "markdown",
   "metadata": {},
   "source": [
    "4. Given an integer, determine and then output whether the number is \"negative\", \"positive\" or \"zero\".<br>  \n",
    "__3 pts__\n"
   ]
  },
  {
   "cell_type": "code",
   "execution_count": 19,
   "metadata": {
    "dotnet_interactive": {
     "language": "pwsh"
    }
   },
   "outputs": [
    {
     "name": "stdin",
     "output_type": "stream",
     "text": [
      "Enter a integer:  0\n"
     ]
    },
    {
     "name": "stdout",
     "output_type": "stream",
     "text": [
      "zero\n"
     ]
    }
   ],
   "source": [
    "# this could be any valid integer\n",
    "integer = -5 # try different integers to test your code\n",
    "\n",
    "# add your code here\n",
    "number = int(input(\"Enter a integer: \"))\n",
    "if number > 0:\n",
    "    print(\"positive\")\n",
    "elif number < 0:\n",
    "    print(\"negative\")\n",
    "else:\n",
    "    print(\"zero\")"
   ]
  },
  {
   "cell_type": "markdown",
   "metadata": {},
   "source": [
    "5. Create a program that solves that age old question,  \n",
    "__\"Would you choose $1 Million dollars or get a single penny that doubles every day for a month?\"__\n",
    "(e.g. Day 1 = 1¢, Day 2 = 2¢, Day 3 = 4¢, ..., Day 30 = ?)  \n",
    "Calculate the total amount you would get on Day 30  \n",
    "_Note 1_: just output the amount you would have on Day 30, don't include other amounts  \n",
    "_Note 2_: display the amount in dollars, not pennies<br>  \n",
    "__3 pts__\n"
   ]
  },
  {
   "cell_type": "code",
   "execution_count": 23,
   "metadata": {
    "dotnet_interactive": {
     "language": "pwsh"
    }
   },
   "outputs": [
    {
     "name": "stdout",
     "output_type": "stream",
     "text": [
      "$5,368,709.12\n"
     ]
    }
   ],
   "source": [
    "# add your code here\n",
    "# Calculate penny doubling for 30 days\n",
    "penny = 1  # Start with 1 penny\n",
    "days = 30\n",
    "\n",
    "for day in range(1, days):\n",
    "    penny = penny * 2\n",
    "\n",
    "# Convert to dollars and display\n",
    "total_dollars = penny / 100  # Convert pennies to dollars\n",
    "print(f\"${total_dollars:,.2f}\")"
   ]
  },
  {
   "cell_type": "raw",
   "metadata": {},
   "source": [
    "6. Create a program that outputs the following pattern using loops. (i.e. not individual print statements)  \n",
    "Try to challenge yourself to make the code in the least number of lines.\n",
    "\n",
    "5 pts\n",
    "\n",
    "         o\n",
    "        ooo\n",
    "       ooooo\n",
    "      ooooooo\n",
    "     ooooooooo\n",
    "    ooooooooooo\n",
    "   ooooooooooooo\n",
    "  ooooooooooooooo\n",
    " ooooooooooooooooo\n",
    "ooooooooooooooooooo\n",
    " ooooooooooooooooo\n",
    "  ooooooooooooooo\n",
    "   ooooooooooooo\n",
    "    ooooooooooo\n",
    "     ooooooooo\n",
    "      ooooooo\n",
    "       ooooo\n",
    "        ooo\n",
    "         o\n"
   ]
  },
  {
   "cell_type": "code",
   "execution_count": 26,
   "metadata": {
    "dotnet_interactive": {
     "language": "pwsh"
    }
   },
   "outputs": [
    {
     "name": "stdout",
     "output_type": "stream",
     "text": [
      "         o\n",
      "        ooo\n",
      "       ooooo\n",
      "      ooooooo\n",
      "     ooooooooo\n",
      "    ooooooooooo\n",
      "   ooooooooooooo\n",
      "  ooooooooooooooo\n",
      " ooooooooooooooooo\n",
      "ooooooooooooooooooo\n",
      " ooooooooooooooooo\n",
      "  ooooooooooooooo\n",
      "   ooooooooooooo\n",
      "    ooooooooooo\n",
      "     ooooooooo\n",
      "      ooooooo\n",
      "       ooooo\n",
      "        ooo\n",
      "         o\n"
     ]
    }
   ],
   "source": [
    "# add your code here\n",
    "for i in range(-9, 10): print(\" \" * abs(i) + \"o\" * (19 - 2 * abs(i)))"
   ]
  },
  {
   "cell_type": "markdown",
   "metadata": {},
   "source": [
    "---\n",
    "### Part B - Understand (9pts)\n",
    "\n",
    "For the following, you will need to understand how the program works in order to solve the problem."
   ]
  },
  {
   "cell_type": "markdown",
   "metadata": {},
   "source": [
    "7. Modify the following to output the odd numbers \"5 3 1 -1 -3 -5\"\n",
    " 2 pts\n",
    "    ```python\n",
    "    # original code\n",
    "    output = \"\"\n",
    "    for i in range(0, 5):\n",
    "        output += f\"{i} \"\n",
    "    }\n",
    "    print(output)\n",
    "    ```\n"
   ]
  },
  {
   "cell_type": "code",
   "execution_count": 34,
   "metadata": {
    "dotnet_interactive": {
     "language": "pwsh"
    }
   },
   "outputs": [
    {
     "name": "stdout",
     "output_type": "stream",
     "text": [
      "5 3 1 -1 -3 -5 \n"
     ]
    }
   ],
   "source": [
    "# modify this code\n",
    "output = \"\"\n",
    "for i in range(5, -6, -2):\n",
    "    output += f\"{i} \"\n",
    "print(output)\n"
   ]
  },
  {
   "cell_type": "markdown",
   "metadata": {},
   "source": [
    "8. Make a __single__ change to the expression in the following 'if' statement to make the statement 'true' and successfully print the desired output.<br>  \n",
    "__1 pt__<br>  \n",
    "    ```python\n",
    "    # original code\n",
    "    if not (5 < 10) and (True != False) or ('apple' > 'orange'):\n",
    "        print(\"Success!\")\n",
    "    else:\n",
    "        print(\"Not yet...\")\n",
    "    ```"
   ]
  },
  {
   "cell_type": "code",
   "execution_count": 35,
   "metadata": {
    "dotnet_interactive": {
     "language": "pwsh"
    }
   },
   "outputs": [
    {
     "name": "stdout",
     "output_type": "stream",
     "text": [
      "Success!\n"
     ]
    }
   ],
   "source": [
    "# modify this code\n",
    "if not (5 < 10) and (True != False) or ('orange' > 'apple'):\n",
    "    print(\"Success!\")\n",
    "else:\n",
    "    print(\"Not yet...\")"
   ]
  },
  {
   "cell_type": "markdown",
   "metadata": {},
   "source": [
    "9. The following program converts the number '1' to the day 'Sunday'.  \n",
    "Modify the program so that if the variable 'day' is between 1-7,\n",
    "the program will output the corresponding day of the week. (i.e.'Sunday' thru 'Saturday').<br>  \n",
    "__3 pts__\n",
    "    ```python\n",
    "    # original code\n",
    "    day = 1 # this value could be 1 - 7\n",
    "    if day == 1:\n",
    "        day = \"Sunday\"\n",
    "    print(day)\n",
    "    ```\n"
   ]
  },
  {
   "cell_type": "code",
   "execution_count": 36,
   "metadata": {
    "dotnet_interactive": {
     "language": "pwsh"
    }
   },
   "outputs": [
    {
     "name": "stdout",
     "output_type": "stream",
     "text": [
      "Sunday\n"
     ]
    }
   ],
   "source": [
    "# modify this code\n",
    "day = 1  # this value could be 1 - 7\n",
    "\n",
    "# List of days, index 0 = Sunday (for day == 1)\n",
    "days_of_week = [\"Sunday\", \"Monday\", \"Tuesday\", \"Wednesday\", \"Thursday\", \"Friday\", \"Saturday\"]\n",
    "\n",
    "if 1 <= day <= 7:\n",
    "    day = days_of_week[day - 1]\n",
    "\n",
    "print(day)"
   ]
  },
  {
   "cell_type": "markdown",
   "metadata": {},
   "source": [
    "10. Determine what value to change the variable \"magic_num\" to in order to print out the message.<br>  \n",
    "__3 pts__\n",
    "    ```python\n",
    "    # Just change the number to the real magic number! Yep, that's it!\n",
    "    # Please keep your answer from others. The fun is solving the puzzle after all!\n",
    "    magic_num = 0\n",
    "\n",
    "    # don't modify the following code\n",
    "    check = 0\n",
    "    while (check < 132):\n",
    "        for i in range(9):\n",
    "            magic_num -= 4\n",
    "        check += 7\n",
    "\n",
    "    if magic_num == 0:\n",
    "        print(\"You found the magic number!\")\n",
    "    else:\n",
    "        print(\"Not yet. Keep trying!\")\n",
    "    ```\n"
   ]
  },
  {
   "cell_type": "code",
   "execution_count": 13,
   "metadata": {
    "dotnet_interactive": {
     "language": "pwsh"
    }
   },
   "outputs": [
    {
     "name": "stdout",
     "output_type": "stream",
     "text": [
      "You found the magic number!\n"
     ]
    }
   ],
   "source": [
    "# Just change the number to the real magic number! Yep, that's it!\n",
    "# Please keep your answer from others. The fun is solving the puzzle after all!\n",
    "magic_num = 684\n",
    "\n",
    "# don't modify the following code\n",
    "check = 0\n",
    "while (check < 132):\n",
    "    for i in range(9):\n",
    "        magic_num -= 4\n",
    "    check += 7\n",
    "\n",
    "if magic_num == 0:\n",
    "    print(\"You found the magic number!\")\n",
    "else:\n",
    "    print(\"Not yet. Keep trying!\")"
   ]
  },
  {
   "cell_type": "code",
   "execution_count": null,
   "metadata": {},
   "outputs": [],
   "source": []
  }
 ],
 "metadata": {
  "hide_input": false,
  "kernelspec": {
   "display_name": "Python 3 (ipykernel)",
   "language": "python",
   "name": "python3"
  },
  "language_info": {
   "codemirror_mode": {
    "name": "ipython",
    "version": 3
   },
   "file_extension": ".py",
   "mimetype": "text/x-python",
   "name": "python",
   "nbconvert_exporter": "python",
   "pygments_lexer": "ipython3",
   "version": "3.13.7"
  },
  "nteract": {
   "version": "0.15.0"
  },
  "polyglot_notebook": {
   "kernelInfo": {
    "defaultKernelName": "powershell",
    "items": [
     {
      "aliases": [],
      "name": "powershell"
     }
    ]
   }
  }
 },
 "nbformat": 4,
 "nbformat_minor": 4
}
